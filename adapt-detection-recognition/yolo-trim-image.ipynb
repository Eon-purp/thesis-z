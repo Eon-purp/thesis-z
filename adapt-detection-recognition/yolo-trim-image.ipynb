{
 "cells": [
  {
   "cell_type": "code",
   "execution_count": 1,
   "metadata": {},
   "outputs": [],
   "source": [
    "import cv2\n",
    "import matplotlib.pyplot as plt\n",
    "import numpy\n",
    "import time"
   ]
  },
  {
   "cell_type": "code",
   "execution_count": 1,
   "metadata": {},
   "outputs": [],
   "source": [
    "from ctypes import *\n",
    "import math\n",
    "import random\n",
    "import os"
   ]
  },
  {
   "cell_type": "code",
   "execution_count": 2,
   "metadata": {},
   "outputs": [],
   "source": [
    "def sample(probs):\n",
    "    s = sum(probs)\n",
    "    probs = [a/s for a in probs]\n",
    "    r = random.uniform(0, 1)\n",
    "    for i in range(len(probs)):\n",
    "        r = r - probs[i]\n",
    "        if r <= 0:\n",
    "            return i\n",
    "    return len(probs)-1\n",
    "\n",
    "def c_array(ctype, values):\n",
    "    arr = (ctype*len(values))()\n",
    "    arr[:] = values\n",
    "    return arr\n",
    "\n",
    "class BOX(Structure):\n",
    "    _fields_ = [(\"x\", c_float),\n",
    "                (\"y\", c_float),\n",
    "                (\"w\", c_float),\n",
    "                (\"h\", c_float)]\n",
    "\n",
    "class DETECTION(Structure):\n",
    "    _fields_ = [(\"bbox\", BOX),\n",
    "                (\"classes\", c_int),\n",
    "                (\"prob\", POINTER(c_float)),\n",
    "                (\"mask\", POINTER(c_float)),\n",
    "                (\"objectness\", c_float),\n",
    "                (\"sort_class\", c_int),\n",
    "                (\"uc\", POINTER(c_float)),\n",
    "                (\"points\", c_int)]\n",
    "\n",
    "class DETNUMPAIR(Structure):\n",
    "    _fields_ = [(\"num\", c_int),\n",
    "                (\"dets\", POINTER(DETECTION))]\n",
    "\n",
    "class IMAGE(Structure):\n",
    "    _fields_ = [(\"w\", c_int),\n",
    "                (\"h\", c_int),\n",
    "                (\"c\", c_int),\n",
    "                (\"data\", POINTER(c_float))]\n",
    "\n",
    "class METADATA(Structure):\n",
    "    _fields_ = [(\"classes\", c_int),\n",
    "                (\"names\", POINTER(c_char_p))]"
   ]
  },
  {
   "cell_type": "code",
   "execution_count": 3,
   "metadata": {},
   "outputs": [],
   "source": [
    "lib = CDLL(\"./libdarknet.so\", RTLD_GLOBAL)\n",
    "lib.network_width.argtypes = [c_void_p]\n",
    "lib.network_width.restype = c_int\n",
    "lib.network_height.argtypes = [c_void_p]\n",
    "lib.network_height.restype = c_int"
   ]
  },
  {
   "cell_type": "code",
   "execution_count": 4,
   "metadata": {},
   "outputs": [],
   "source": [
    "hasGPU = True"
   ]
  },
  {
   "cell_type": "code",
   "execution_count": 5,
   "metadata": {},
   "outputs": [],
   "source": [
    "copy_image_from_bytes = lib.copy_image_from_bytes\n",
    "copy_image_from_bytes.argtypes = [IMAGE,c_char_p]"
   ]
  },
  {
   "cell_type": "code",
   "execution_count": 6,
   "metadata": {},
   "outputs": [],
   "source": [
    "def network_width(net):\n",
    "    return lib.network_width(net)\n",
    "\n",
    "def network_height(net):\n",
    "    return lib.network_height(net)"
   ]
  },
  {
   "cell_type": "code",
   "execution_count": 8,
   "metadata": {},
   "outputs": [],
   "source": [
    "predict = lib.network_predict_ptr\n",
    "predict.argtypes = [c_void_p, POINTER(c_float)]\n",
    "predict.restype = POINTER(c_float)"
   ]
  },
  {
   "cell_type": "code",
   "execution_count": 9,
   "metadata": {},
   "outputs": [],
   "source": [
    "if hasGPU:\n",
    "    set_gpu = lib.cuda_set_device\n",
    "    set_gpu.argtypes = [c_int]"
   ]
  },
  {
   "cell_type": "code",
   "execution_count": 14,
   "metadata": {},
   "outputs": [],
   "source": [
    "init_cpu = lib.init_cpu"
   ]
  },
  {
   "cell_type": "code",
   "execution_count": 15,
   "metadata": {},
   "outputs": [],
   "source": [
    "make_image = lib.make_image\n",
    "make_image.argtypes = [c_int, c_int, c_int]\n",
    "make_image.restype = IMAGE"
   ]
  },
  {
   "cell_type": "code",
   "execution_count": null,
   "metadata": {},
   "outputs": [],
   "source": []
  },
  {
   "cell_type": "code",
   "execution_count": null,
   "metadata": {},
   "outputs": [],
   "source": []
  }
 ],
 "metadata": {
  "kernelspec": {
   "display_name": "Python 3",
   "language": "python",
   "name": "python3"
  },
  "language_info": {
   "codemirror_mode": {
    "name": "ipython",
    "version": 3
   },
   "file_extension": ".py",
   "mimetype": "text/x-python",
   "name": "python",
   "nbconvert_exporter": "python",
   "pygments_lexer": "ipython3",
   "version": "3.6.10"
  }
 },
 "nbformat": 4,
 "nbformat_minor": 4
}
