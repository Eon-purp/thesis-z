{
 "cells": [
  {
   "cell_type": "markdown",
   "metadata": {},
   "source": [
    "## Libaries"
   ]
  },
  {
   "cell_type": "code",
   "execution_count": 1,
   "metadata": {},
   "outputs": [
    {
     "name": "stdout",
     "output_type": "stream",
     "text": [
      "kernel running\n"
     ]
    }
   ],
   "source": [
    "print('kernel running')"
   ]
  },
  {
   "cell_type": "code",
   "execution_count": null,
   "metadata": {
    "jupyter": {
     "source_hidden": true
    }
   },
   "outputs": [],
   "source": [
    "# Put this into settings> adv> KB shortcut> user perf> \n",
    "# {\n",
    "#   \"shortcuts\": [\n",
    "#     {\n",
    "#       \"command\": \"notebook:hide-cell-code\",\n",
    "#       \"keys\": [\n",
    "#         \"C\",\n",
    "#         \"H\"\n",
    "#       ],\n",
    "#       \"selector\": \".jp-Notebook:focus\"\n",
    "#     },    \n",
    "#     {\n",
    "#       \"command\": \"notebook:show-cell-code\",\n",
    "#       \"keys\": [\n",
    "#         \"C\", \n",
    "#         \"S\"\n",
    "#       ],\n",
    "#       \"selector\": \".jp-Notebook:focus\"\n",
    "#     },    \n",
    "\n",
    "#     {\n",
    "#       \"command\": \"notebook:hide-all-cell-outputs\",\n",
    "#       \"keys\": [\n",
    "#         \"O\",\n",
    "#         \"H\"\n",
    "#       ],\n",
    "#       \"selector\": \".jp-Notebook:focus\"\n",
    "#     },\n",
    "      \n",
    "#     {\n",
    "#       \"command\": \"notebook:show-all-cell-outputs\",\n",
    "#       \"keys\": [\n",
    "#         \"O\"\n",
    "#         \"S\"\n",
    "#       ],\n",
    "#       \"selector\": \".jp-Notebook:focus\"\n",
    "#     }\n",
    "\n",
    "# //     {\n",
    "# //       \"command\": \"notebook:hide-all-cell-code\",\n",
    "# //       \"keys\": [\n",
    "# //         \"Shift O,O\"\n",
    "# //       ],\n",
    "# //       \"selector\": \".jp-Notebook:focus\"\n",
    "# //     }\n",
    "#   ]\n",
    "# }"
   ]
  },
  {
   "cell_type": "code",
   "execution_count": 2,
   "metadata": {},
   "outputs": [],
   "source": [
    "import numpy as np\n",
    "import cv2\n",
    "import matplotlib.pyplot as plt"
   ]
  },
  {
   "cell_type": "code",
   "execution_count": null,
   "metadata": {
    "jupyter": {
     "source_hidden": true
    }
   },
   "outputs": [],
   "source": [
    "# def square(img):\n",
    "#     \"\"\"\n",
    "#     This function resize non square image to square one (height == width)\n",
    "#     :param img: input image as numpy array\n",
    "#     :return: numpy array\n",
    "#     \"\"\"\n",
    "\n",
    "#     # image after making height equal to width\n",
    "#     squared_image = img\n",
    "\n",
    "#     # Get image height and width\n",
    "#     h = img.shape[0]\n",
    "#     w = img.shape[1]\n",
    "\n",
    "#     # In case height superior than width\n",
    "#     if h > w:\n",
    "#         diff = h-w\n",
    "#         if diff % 2 == 0:\n",
    "#             x1 = np.zeros(shape=(h, diff//2))\n",
    "#             x2 = x1\n",
    "#         else:\n",
    "#             x1 = np.zeros(shape=(h, diff//2))\n",
    "#             x2 = np.zeros(shape=(h, (diff//2)+1))\n",
    "\n",
    "#         squared_image = np.concatenate((x1, img, x2), axis=1)\n",
    "\n",
    "#     # In case height inferior than width\n",
    "#     if h < w:\n",
    "#         diff = w-h\n",
    "#         if diff % 2 == 0:\n",
    "#             x1 = np.zeros(shape=(diff//2, w))\n",
    "#             x2 = x1\n",
    "#         else:\n",
    "#             x1 = np.zeros(shape=(diff//2, w))\n",
    "#             x2 = np.zeros(shape=((diff//2)+1, w))\n",
    "\n",
    "#         squared_image = np.concatenate((x1, img, x2), axis=0)\n",
    "\n",
    "#     return squared_image"
   ]
  },
  {
   "cell_type": "markdown",
   "metadata": {
    "collapsed": "true"
   },
   "source": [
    "## <p style=\"color:cyan;\">**Threasholding**</p>\n",
    "[imagesearch-threasholding](https://www.pyimagesearch.com/2014/09/08/thresholding-simple-image-segmentation-using-opencv/)"
   ]
  },
  {
   "cell_type": "code",
   "execution_count": 3,
   "metadata": {},
   "outputs": [],
   "source": [
    "image_path = './mm-plate.jpg'"
   ]
  },
  {
   "cell_type": "code",
   "execution_count": null,
   "metadata": {
    "jupyter": {
     "source_hidden": true
    }
   },
   "outputs": [],
   "source": [
    "giant_color_img = cv2.imread(image_path)"
   ]
  },
  {
   "cell_type": "code",
   "execution_count": null,
   "metadata": {
    "jupyter": {
     "source_hidden": true
    }
   },
   "outputs": [],
   "source": [
    "h,w,c = giant_color_img.shape\n",
    "print(h,w,c)"
   ]
  },
  {
   "cell_type": "code",
   "execution_count": null,
   "metadata": {
    "jupyter": {
     "source_hidden": true
    }
   },
   "outputs": [],
   "source": [
    "giant_gray_img = cv2.cvtColor(giant_color_img, cv2.COLOR_BGR2GRAY)\n",
    "print(giant_gray_img.shape)\n",
    "plt.imshow(giant_gray_img)"
   ]
  },
  {
   "cell_type": "code",
   "execution_count": null,
   "metadata": {
    "jupyter": {
     "source_hidden": true
    }
   },
   "outputs": [],
   "source": [
    "# original_image_height = image_array.shape[0]\n",
    "# gray_image_height = image_array_gray.shape[0]\n",
    "# original_image_height == gray_image_height"
   ]
  },
  {
   "cell_type": "code",
   "execution_count": null,
   "metadata": {
    "jupyter": {
     "source_hidden": true
    }
   },
   "outputs": [],
   "source": [
    "A = h * w\n",
    "print(h, w, A)"
   ]
  },
  {
   "cell_type": "code",
   "execution_count": null,
   "metadata": {
    "jupyter": {
     "source_hidden": true
    }
   },
   "outputs": [],
   "source": [
    "# scale_one = 0.001\n",
    "# scale_two = 0.1\n",
    "# area_condition_one = A * scale_one\n",
    "# area_condition_two = A * scale_two\n",
    "# print(area_condition_one, area_condition_two)"
   ]
  },
  {
   "cell_type": "markdown",
   "metadata": {},
   "source": [
    "### **Reading an IMAGE**"
   ]
  },
  {
   "cell_type": "code",
   "execution_count": null,
   "metadata": {
    "jupyter": {
     "source_hidden": true
    }
   },
   "outputs": [],
   "source": [
    "methods = [\n",
    "\t(\"THRESH_BINARY\", cv2.THRESH_BINARY),\n",
    "\t(\"THRESH_BINARY_INV\", cv2.THRESH_BINARY_INV),\n",
    "\t(\"THRESH_TRUNC\", cv2.THRESH_TRUNC),\n",
    "\t(\"THRESH_TOZERO\", cv2.THRESH_TOZERO),\n",
    "\t(\"THRESH_TOZERO_INV\", cv2.THRESH_TOZERO_INV),\n",
    "    (\"THRESH_OTSU\", cv2.THRESH_OTSU)]"
   ]
  },
  {
   "cell_type": "code",
   "execution_count": null,
   "metadata": {
    "jupyter": {
     "source_hidden": true
    }
   },
   "outputs": [],
   "source": [
    "threshold = 127\n",
    "for (threshName, threshMethod) in methods: #threshMethod is just 0 to 8 or smth\n",
    "    (T, thresh_image) = cv2.threshold(src=giant_gray_img, thresh=threshold, maxval=255, type=threshMethod)\n",
    "    fig, axes = plt.subplots(nrows=1,ncols=2, figsize=(10, 7.5))\n",
    "    fig.tight_layout()\n",
    "    axes[0].imshow(giant_gray_img)\n",
    "    axes[0].set_title('Gray scaled image')\n",
    "\n",
    "    axes[1].imshow(thresh_image)\n",
    "    axes[1].set_title(threshName)\n",
    "#If a pixel in the input image passes the threshold test, it will have the value set to 255. (THRESH_BINARY)\n",
    "#leaves the pixel intensities as they are if the source pixel is not greater than the supplied threshold. (THRESH_TRUNC)\n",
    "#cv2.THRESH_TOZERO  which sets the source pixel to zero if the source pixel is not greater than the supplied threshold"
   ]
  },
  {
   "cell_type": "code",
   "execution_count": null,
   "metadata": {
    "jupyter": {
     "source_hidden": true
    }
   },
   "outputs": [],
   "source": [
    "giant_gray_blur = cv2.GaussianBlur(src=giant_gray_img, ksize=(5,5), sigmaX=0)\n",
    "plt.imshow(giant_gray_blur)"
   ]
  },
  {
   "cell_type": "code",
   "execution_count": null,
   "metadata": {
    "jupyter": {
     "source_hidden": true
    }
   },
   "outputs": [],
   "source": [
    "T,giant_gray_blur_thresh = cv2.threshold(src=giant_gray_blur,thresh=0, maxval=255, type=cv2.THRESH_OTSU)"
   ]
  },
  {
   "cell_type": "code",
   "execution_count": null,
   "metadata": {
    "jupyter": {
     "source_hidden": true
    }
   },
   "outputs": [],
   "source": [
    "plt.imshow(giant_gray_blur_thresh)"
   ]
  },
  {
   "cell_type": "code",
   "execution_count": null,
   "metadata": {
    "jupyter": {
     "source_hidden": true
    }
   },
   "outputs": [],
   "source": [
    "# T, thresh_image = cv2.threshold(src=image_array_gray ,thresh=0, maxval=255, type=cv2.THRESH_OTSU)"
   ]
  },
  {
   "cell_type": "markdown",
   "metadata": {},
   "source": [
    "### **Giant image & Projections**"
   ]
  },
  {
   "cell_type": "code",
   "execution_count": null,
   "metadata": {},
   "outputs": [],
   "source": [
    "img = cv2.imread(image_path, cv2.IMREAD_REDUCED_GRAYSCALE_8)\n",
    "print(img.shape)\n",
    "plt.imshow(img, cmap='gray')\n",
    "print(img)"
   ]
  },
  {
   "cell_type": "code",
   "execution_count": null,
   "metadata": {},
   "outputs": [],
   "source": [
    "#img_255 = 255 - img\n",
    "#img_255 = img.copy()\n",
    "img_255 = giant_gray_blur_thresh.copy()\n",
    "print(img_255.shape)\n",
    "plt.imshow(img_255, cmap='gray')"
   ]
  },
  {
   "cell_type": "code",
   "execution_count": null,
   "metadata": {},
   "outputs": [],
   "source": [
    "#img_255 = 255 - img_255\n",
    "print(img_255.shape)\n",
    "plt.imshow(img_255, cmap='gray')"
   ]
  },
  {
   "cell_type": "code",
   "execution_count": null,
   "metadata": {},
   "outputs": [],
   "source": [
    "proj = np.sum(img_255,1)\n",
    "# Create output image same height as text, 500 px wide\n",
    "m = np.max(proj)\n",
    "w = 1800\n",
    "result = np.zeros((proj.shape[0],1800))\n",
    "# Draw a line for each row\n",
    "for row in range(img_255.shape[0]):\n",
    "    cv2.line(result, (0,row), (int(proj[row]*w/m),row), (255,255,255), 1)\n",
    "\n",
    "plt.imshow(result, cmap='gray')"
   ]
  },
  {
   "cell_type": "code",
   "execution_count": null,
   "metadata": {},
   "outputs": [],
   "source": [
    "print(proj.shape)\n",
    "print(proj)"
   ]
  },
  {
   "cell_type": "code",
   "execution_count": null,
   "metadata": {},
   "outputs": [],
   "source": [
    "result.shape"
   ]
  },
  {
   "cell_type": "code",
   "execution_count": null,
   "metadata": {},
   "outputs": [],
   "source": [
    "plt.imshow(result[119:305], cmap='gray')"
   ]
  },
  {
   "cell_type": "code",
   "execution_count": null,
   "metadata": {},
   "outputs": [],
   "source": [
    "plt.imshow(img_255[119:305], cmap='gray')"
   ]
  },
  {
   "cell_type": "code",
   "execution_count": null,
   "metadata": {},
   "outputs": [],
   "source": [
    "# plt.hist(image_array.ravel(),256,[0,256])\n",
    "# plt.show()\n",
    "# plt.hist(image_array_gray.ravel(),256,[0,256])\n",
    "# plt.show()\n",
    "# # plt.hist(thresh_image.ravel(),256,[0,256])\n",
    "# # plt.show()\n",
    "# plt.hist(blur.ravel(),256,[0,256])\n",
    "# plt.show()\n",
    "# # plt.hist(thresh_image_blured.ravel(),256,[0,256])\n",
    "# # plt.show()"
   ]
  },
  {
   "cell_type": "markdown",
   "metadata": {},
   "source": [
    "<hr style=\"color:blue;\">"
   ]
  },
  {
   "cell_type": "markdown",
   "metadata": {},
   "source": [
    "## Horizontal and Vertical PROJECTION"
   ]
  },
  {
   "cell_type": "markdown",
   "metadata": {
    "collapsed": "true"
   },
   "source": [
    "### **TEST-I**"
   ]
  },
  {
   "cell_type": "code",
   "execution_count": null,
   "metadata": {},
   "outputs": [],
   "source": [
    "img = cv2.imread(image_path, cv2.IMREAD_REDUCED_GRAYSCALE_4)\n",
    "print(img.shape)"
   ]
  },
  {
   "cell_type": "code",
   "execution_count": null,
   "metadata": {},
   "outputs": [],
   "source": [
    "T,img_thes = cv2.threshold(src=cv2.GaussianBlur(src=img, ksize=(5,5), sigmaX=0),thresh=0, maxval=255, type=cv2.THRESH_OTSU)\n",
    "plt.imshow(img_thes, cmap='gray')"
   ]
  },
  {
   "cell_type": "code",
   "execution_count": null,
   "metadata": {},
   "outputs": [],
   "source": [
    "proj = np.sum(img_thes,1)\n",
    "# Create output image same height as text, 500 px wide\n",
    "m = np.max(proj)\n",
    "w = 500\n",
    "result = np.zeros((proj.shape[0],w))\n",
    "# Draw a line for each row\n",
    "for row in range(img_thes.shape[0]):\n",
    "    cv2.line(result, (0,row), (int(proj[row]*w/m),row), (255,255,255), 1)\n",
    "\n",
    "plt.imshow(result, cmap='gray')"
   ]
  },
  {
   "cell_type": "code",
   "execution_count": null,
   "metadata": {},
   "outputs": [],
   "source": [
    "plt.imshow(result[26:75], cmap='gray')"
   ]
  },
  {
   "cell_type": "code",
   "execution_count": null,
   "metadata": {},
   "outputs": [],
   "source": [
    "plt.imshow(img_thes[26:75], cmap='gray')"
   ]
  },
  {
   "cell_type": "markdown",
   "metadata": {
    "collapsed": "true"
   },
   "source": [
    "### **TEST-II**"
   ]
  },
  {
   "cell_type": "code",
   "execution_count": 3,
   "metadata": {},
   "outputs": [
    {
     "name": "stdout",
     "output_type": "stream",
     "text": [
      "(191, 418)\n"
     ]
    },
    {
     "data": {
      "image/png": "[encoded data removed]",
      "text/plain": [
       "<Figure size 432x288 with 1 Axes>"
      ]
     },
     "metadata": {
      "needs_background": "light"
     },
     "output_type": "display_data"
    }
   ],
   "source": [
    "img = cv2.imread('plate-2.jpg', cv2.IMREAD_REDUCED_GRAYSCALE_8)\n",
    "T,img_thres = cv2.threshold(src=cv2.GaussianBlur(src=img, ksize=(5,5), sigmaX=0),thresh=0, maxval=255, type=cv2.THRESH_OTSU)\n",
    "plt.imshow(img_thres, cmap='gray')\n",
    "print(img_thres.shape)"
   ]
  },
  {
   "cell_type": "code",
   "execution_count": 4,
   "metadata": {},
   "outputs": [
    {
     "data": {
      "text/plain": [
       "<matplotlib.image.AxesImage at 0x7f7cad2f2898>"
      ]
     },
     "execution_count": 4,
     "metadata": {},
     "output_type": "execute_result"
    },
    {
     "data": {
      "image/png": "[encoded data removed]",
      "text/plain": [
       "<Figure size 432x288 with 1 Axes>"
      ]
     },
     "metadata": {
      "needs_background": "light"
     },
     "output_type": "display_data"
    }
   ],
   "source": [
    "proj = np.sum(img_thres,1)\n",
    "m = np.max(proj)\n",
    "h, w = img_thres.shape\n",
    "result = np.zeros((h,w))\n",
    "for row in range(h):\n",
    "    cv2.line(result, (0,row), (int(proj[row]*w/m),row), (255,255,255), 1)\n",
    "\n",
    "plt.imshow(result, cmap='gray')"
   ]
  },
  {
   "cell_type": "code",
   "execution_count": 5,
   "metadata": {},
   "outputs": [
    {
     "data": {
      "text/plain": [
       "<matplotlib.image.AxesImage at 0x7f7cad25ec50>"
      ]
     },
     "execution_count": 5,
     "metadata": {},
     "output_type": "execute_result"
    },
    {
     "data": {
      "image/png": "[encoded data removed]",
      "text/plain": [
       "<Figure size 432x288 with 1 Axes>"
      ]
     },
     "metadata": {
      "needs_background": "light"
     },
     "output_type": "display_data"
    }
   ],
   "source": [
    "# print(np.average(proj[16:]))\n",
    "# print(np.amax(proj[16:]))\n",
    "plt.imshow(img_thres[20:65], cmap='gray')"
   ]
  },
  {
   "cell_type": "markdown",
   "metadata": {},
   "source": [
    "two ways - \n",
    "\n",
    "1 . we can extract information to trim our detected image from `proj`\n",
    "\n",
    "2 . we can also trim thres_img from `result` variable"
   ]
  },
  {
   "cell_type": "markdown",
   "metadata": {},
   "source": [
    "#### tryin' to get meaingful indices from `proj` variable, would be faster than `result` IMHO"
   ]
  },
  {
   "cell_type": "code",
   "execution_count": 6,
   "metadata": {},
   "outputs": [
    {
     "name": "stdout",
     "output_type": "stream",
     "text": [
      "[106590 106590 106590  92055  77520  93075 105570 105825 104040  88740\n",
      "  29070   6885   6375   6120   6120   6120   6375   6375   6375   6375\n",
      "   6120   8925  14790  19380  19890  19890  20400  18105  17340  18105\n",
      "  18615  21930  25500  24735  20400  19380  18360  18105  18360  18360\n",
      "  17850  16575  16830  17085  16575  16065  16065  16065  16065  15810\n",
      "  16065  15810  16065  16065  15555  16065  17085  18870  18615  17850\n",
      "  17085  12750   6120   6120   5865   5865   5865   5865   5865   5865\n",
      "   5865   5865   5865   5865   5865   5610   5610  29070  39525  43095\n",
      "  45645  47940  49470  51255  52530  49980  39015  35700  34935  34170\n",
      "  33915  33660  33405  33405  33405  33915  32640  30855  30345  28560\n",
      "  27285  27795  27795  28050  28050  27795  28305  27795  27540  27285\n",
      "  27540  32130  33150  34170  35700  35955  36210  36465  36465  36975\n",
      "  37230  37230  31620  31365  31110  31365  32895  32640  31365  31875\n",
      "  31365  30345  29325  28305  26265  24480  24735  24480  24735  23970\n",
      "  24225  25500  27540  29325  32640  32385  32895  33915  34680  34680\n",
      "  35445  35700  35445  28815  28050  28560  29070  30090  30855  36465\n",
      "  39525  38250  36720  35190  34170  32385  29835  26775  18360   5865\n",
      "   4335   4080   4080   4080   4080   4080   4080   4080   4335   4845\n",
      "  58650 105570 106590 106590 106080  45135   8670   5100  86445 102765\n",
      " 106590]\n",
      "191\n",
      "30311.623036649216\n",
      "14790\n",
      "[255 255 255 255   0   0 255 255 255 255   0   0   0   0   0   0   0   0\n",
      "   0   0   0   0   0   0   0   0   0   0   0   0   0   0   0   0   0   0\n",
      "   0   0   0   0   0   0   0   0   0   0   0   0   0   0   0   0   0   0\n",
      "   0   0   0   0   0   0   0   0   0   0   0   0   0   0   0   0   0   0\n",
      "   0   0   0   0   0   0   0   0   0   0   0   0   0   0   0   0   0   0\n",
      "   0   0   0   0   0   0   0   0   0   0   0   0   0   0   0   0   0   0\n",
      "   0   0   0   0   0   0   0   0   0   0   0   0   0   0   0   0   0   0\n",
      "   0   0   0   0   0   0   0   0   0   0   0   0   0   0   0   0   0   0\n",
      "   0   0   0   0   0   0   0   0   0   0   0   0   0   0   0   0   0   0\n",
      "   0   0   0   0   0   0   0   0   0   0   0   0   0   0   0   0   0   0\n",
      "   0   0   0   0   0   0   0   0   0   0   0   0   0 255 255 255 255 255\n",
      " 255 255 255 255 255 255 255 255 255 255 255 255 255 255 255 255 255 255\n",
      "   0   0   0   0   0   0   0   0   0   0   0   0   0   0   0   0   0   0\n",
      "   0   0   0   0   0 255 255 255 255 255 255   0   0   0   0   0   0   0\n",
      "   0   0   0   0   0   0   0   0   0   0 255 255 255 255 255 255   0   0\n",
      "   0   0   0   0   0   0   0   0   0   0   0   0   0   0   0   0   0   0\n",
      "   0   0   0   0   0   0   0   0   0   0   0   0   0   0   0   0   0   0\n",
      "   0   0   0   0   0   0   0   0   0   0   0   0   0   0   0   0   0   0\n",
      "   0   0   0   0   0   0   0   0   0   0   0   0   0   0   0   0   0   0\n",
      "   0   0   0   0   0   0   0   0   0   0   0   0   0   0   0   0   0   0\n",
      "   0   0   0   0   0   0   0   0   0   0   0   0   0   0   0   0   0   0\n",
      "   0   0   0   0   0   0   0   0   0   0   0   0   0   0   0   0   0   0\n",
      "   0   0   0   0   0   0   0 255 255 255 255 255 255 255 255 255 255 255\n",
      " 255 255 255 255]\n"
     ]
    },
    {
     "data": {
      "text/plain": [
       "<matplotlib.image.AxesImage at 0x7f7cad1cbc50>"
      ]
     },
     "execution_count": 6,
     "metadata": {},
     "output_type": "execute_result"
    },
    {
     "data": {
      "image/png": "[encoded data removed]",
      "text/plain": [
       "<Figure size 432x288 with 1 Axes>"
      ]
     },
     "metadata": {
      "needs_background": "light"
     },
     "output_type": "display_data"
    }
   ],
   "source": [
    "print(proj)\n",
    "print(len(proj))\n",
    "print(np.mean(proj))\n",
    "print(proj[22])\n",
    "print(img_thres[22])\n",
    "plt.imshow(img_thres[22:60,:])"
   ]
  },
  {
   "cell_type": "markdown",
   "metadata": {
    "collapsed": "true"
   },
   "source": [
    "### **Binarization & H/V Projections**"
   ]
  },
  {
   "cell_type": "code",
   "execution_count": null,
   "metadata": {},
   "outputs": [],
   "source": []
  },
  {
   "cell_type": "code",
   "execution_count": 7,
   "metadata": {},
   "outputs": [
    {
     "name": "stdout",
     "output_type": "stream",
     "text": [
      "[1. 1. 1. 1. 1. 1. 1. 1. 1. 1. 1. 1. 1. 1. 1. 1. 1. 1. 1. 1. 1. 1. 1. 1.\n",
      " 1. 1. 1. 1. 1. 1. 1. 1. 1. 1. 1. 1. 1. 1. 1. 1. 1. 1. 1. 1. 1. 1. 1. 1.\n",
      " 1. 1. 1. 1. 1. 1. 1. 1. 1. 1. 1. 1. 1. 1. 1. 1. 1. 1. 1. 1. 1. 1. 1. 1.\n",
      " 1. 1. 1. 1. 1. 1. 1. 1. 1. 1. 1. 1. 1. 1. 1. 1. 1. 1. 1. 1. 1. 1. 1. 1.\n",
      " 1. 1. 1. 1. 1. 1. 1. 1. 1. 1. 1. 1. 1. 1. 1. 1. 1. 1. 1. 1. 1. 1. 1. 1.\n",
      " 1. 1. 1. 1. 1. 1. 1. 1. 1. 1. 1. 1. 1. 1. 1. 1. 1. 1. 1. 1. 1. 1. 1. 1.\n",
      " 1. 1. 1. 1. 1. 1. 1. 1. 1. 1. 1. 1. 1. 1. 1. 1. 1. 1. 1. 1. 1. 1. 1. 1.\n",
      " 1. 1. 1. 1. 1. 1. 1. 1. 1. 1. 1. 1. 1. 1. 1. 1. 1. 1. 1. 1. 1. 1. 1. 1.\n",
      " 1. 1. 1. 1. 1. 1. 1. 1. 1. 1. 1. 1. 1. 1. 1. 1. 1. 1. 1. 1. 1. 1. 1. 1.\n",
      " 1. 1. 1. 1. 1. 1. 1. 1. 1. 1. 1. 1. 1. 1. 1. 1. 1. 1. 1. 1. 1. 1. 1. 1.\n",
      " 1. 1. 1. 1. 1. 1. 1. 1. 1. 1. 1. 1. 1. 1. 1. 1. 1. 1. 1. 1. 1. 1. 1. 1.\n",
      " 1. 1. 1. 1. 1. 1. 1. 1. 1. 1. 1. 1. 1. 1. 1. 1. 1. 1. 1. 1. 1. 1. 1. 1.\n",
      " 1. 1. 1. 1. 1. 1. 1. 1. 1. 1. 1. 1. 1. 1. 1. 1. 1. 1. 1. 1. 1. 1. 1. 1.\n",
      " 1. 1. 1. 1. 1. 1. 1. 1. 1. 1. 1. 1. 1. 1. 1. 1. 1. 1. 1. 1. 1. 1. 1. 1.\n",
      " 1. 1. 1. 1. 1. 1. 1. 1. 1. 1. 1. 1. 1. 1. 1. 1. 1. 1. 1. 1. 1. 1. 1. 1.\n",
      " 1. 1. 1. 1. 1. 1. 1. 1. 1. 1. 1. 1. 1. 1. 1. 1. 1. 1. 1. 1. 1. 1. 1. 1.\n",
      " 1. 1. 1. 1. 1. 1. 1. 1. 1. 1. 1. 1. 1. 1. 1. 1. 1. 1. 1. 1. 1. 1. 1. 1.\n",
      " 1. 1. 1. 1. 1. 1. 1. 1. 1. 1.]\n"
     ]
    }
   ],
   "source": [
    "img_bin = img_thres.copy() / 255\n",
    "print(img_bin[0])"
   ]
  },
  {
   "cell_type": "code",
   "execution_count": 8,
   "metadata": {},
   "outputs": [
    {
     "data": {
      "text/plain": [
       "<matplotlib.image.AxesImage at 0x7f7cad13d748>"
      ]
     },
     "execution_count": 8,
     "metadata": {},
     "output_type": "execute_result"
    },
    {
     "data": {
      "image/png": "[encoded data removed]",
      "text/plain": [
       "<Figure size 432x288 with 1 Axes>"
      ]
     },
     "metadata": {
      "needs_background": "light"
     },
     "output_type": "display_data"
    }
   ],
   "source": [
    "proj = np.sum(img_bin, 1)\n",
    "m = np.max(proj)\n",
    "h, w = img_bin.shape\n",
    "result = np.zeros((h,w))\n",
    "for row in range(h):\n",
    "    cv2.line(result, (0,row), (int(proj[row]*w/m),row), (255,255,255), 1)\n",
    "\n",
    "plt.imshow(result, cmap='gray')"
   ]
  },
  {
   "cell_type": "code",
   "execution_count": 9,
   "metadata": {},
   "outputs": [
    {
     "name": "stdout",
     "output_type": "stream",
     "text": [
      "[ 76.  78.  78.  80.  71.  68.  71.  73.  86. 100.  97.  80.  76.  72.\n",
      "  71.  72.  72.  70.  65.  66.  67.  65.  63.  63.  63.  63.  62.  63.\n",
      "  62.  63.  63.  61.  63.  67.  74.  73.  70.]\n"
     ]
    },
    {
     "data": {
      "text/plain": [
       "<matplotlib.image.AxesImage at 0x7f7cad1207f0>"
      ]
     },
     "execution_count": 9,
     "metadata": {},
     "output_type": "execute_result"
    },
    {
     "data": {
      "image/png": "[encoded data removed]",
      "text/plain": [
       "<Figure size 432x288 with 1 Axes>"
      ]
     },
     "metadata": {
      "needs_background": "light"
     },
     "output_type": "display_data"
    }
   ],
   "source": [
    "#print(proj)\n",
    "#print(len(proj))\n",
    "#print(np.mean(proj))\n",
    "print(proj[23:60]) # MDY projection\n",
    "#print(img_bin[22])\n",
    "plt.imshow(img_thres[23:60,:], cmap='gray') #eg: projection 76 means image has 76 , 1."
   ]
  },
  {
   "cell_type": "code",
   "execution_count": 10,
   "metadata": {},
   "outputs": [
    {
     "name": "stdout",
     "output_type": "stream",
     "text": [
      "[418. 418. 418. 361. 304. 365. 414. 415. 408. 348. 114.  27.  25.  24.\n",
      "  24.  24.  25.  25.  25.  25.  24.  35.  58.  76.  78.  78.  80.  71.\n",
      "  68.  71.  73.  86. 100.  97.  80.  76.  72.  71.  72.  72.  70.  65.\n",
      "  66.  67.  65.  63.  63.  63.  63.  62.  63.  62.  63.  63.  61.  63.\n",
      "  67.  74.  73.  70.  67.  50.  24.  24.  23.  23.  23.  23.  23.  23.\n",
      "  23.  23.  23.  23.  23.  22.  22. 114. 155. 169. 179. 188. 194. 201.\n",
      " 206. 196. 153. 140. 137. 134. 133. 132. 131. 131. 131. 133. 128. 121.\n",
      " 119. 112. 107. 109. 109. 110. 110. 109. 111. 109. 108. 107. 108. 126.\n",
      " 130. 134. 140. 141. 142. 143. 143. 145. 146. 146. 124. 123. 122. 123.\n",
      " 129. 128. 123. 125. 123. 119. 115. 111. 103.  96.  97.  96.  97.  94.\n",
      "  95. 100. 108. 115. 128. 127. 129. 133. 136. 136. 139. 140. 139. 113.\n",
      " 110. 112. 114. 118. 121. 143. 155. 150. 144. 138. 134. 127. 117. 105.\n",
      "  72.  23.  17.  16.  16.  16.  16.  16.  16.  16.  17.  19. 230. 414.\n",
      " 418. 418. 416. 177.  34.  20. 339. 403. 418.]\n",
      "(191,)\n"
     ]
    }
   ],
   "source": [
    "print(proj)\n",
    "print(proj.shape)"
   ]
  },
  {
   "cell_type": "code",
   "execution_count": 11,
   "metadata": {},
   "outputs": [],
   "source": [
    "all_white = np.where(proj == 418) #418 is image width, bcz if the image at specific row has all white value , it will be same with image width. not efficient tho"
   ]
  },
  {
   "cell_type": "code",
   "execution_count": 10,
   "metadata": {},
   "outputs": [],
   "source": [
    "some_white = np.isclose(a=proj, b=w, atol=170) #atol is tolerence with b"
   ]
  },
  {
   "cell_type": "code",
   "execution_count": 12,
   "metadata": {},
   "outputs": [
    {
     "data": {
      "text/plain": [
       "(191,)"
      ]
     },
     "execution_count": 12,
     "metadata": {},
     "output_type": "execute_result"
    }
   ],
   "source": [
    "some_white.shape"
   ]
  },
  {
   "cell_type": "code",
   "execution_count": 22,
   "metadata": {},
   "outputs": [],
   "source": [
    "# np.isclose(a=proj, b=418, atol=170).all()\n",
    "# np.isclose(a=proj, b=418, atol=170).any()"
   ]
  },
  {
   "cell_type": "code",
   "execution_count": 13,
   "metadata": {},
   "outputs": [],
   "source": [
    "#axis 0, viewing from verticle \n",
    "up_down_trimed = img_thres.copy()\n",
    "constrain = 20\n",
    "\n",
    "for i in some_white[:constrain]:\n",
    "    if i:\n",
    "        up_down_trimed = np.delete(arr=up_down_trimed, obj=0, axis=0)\n",
    "\n",
    "for i in some_white[:-constrain]:\n",
    "    if i:\n",
    "        up_down_trimed = np.delete(arr=up_down_trimed, obj=-1, axis=0)"
   ]
  },
  {
   "cell_type": "code",
   "execution_count": 14,
   "metadata": {},
   "outputs": [
    {
     "data": {
      "text/plain": [
       "<matplotlib.image.AxesImage at 0x7f7cac1d1860>"
      ]
     },
     "execution_count": 14,
     "metadata": {},
     "output_type": "execute_result"
    },
    {
     "data": {
      "image/png": "[encoded data removed]",
      "text/plain": [
       "<Figure size 432x288 with 1 Axes>"
      ]
     },
     "metadata": {
      "needs_background": "light"
     },
     "output_type": "display_data"
    }
   ],
   "source": [
    "plt.imshow(up_down_trimed,cmap='gray')"
   ]
  },
  {
   "cell_type": "code",
   "execution_count": 102,
   "metadata": {},
   "outputs": [
    {
     "data": {
      "text/plain": [
       "<matplotlib.image.AxesImage at 0x7fd7180e8fd0>"
      ]
     },
     "execution_count": 102,
     "metadata": {},
     "output_type": "execute_result"
    },
    {
     "data": {
      "image/png": "[encoded data removed]",
      "text/plain": [
       "<Figure size 432x288 with 1 Axes>"
      ]
     },
     "metadata": {
      "needs_background": "light"
     },
     "output_type": "display_data"
    }
   ],
   "source": [
    "up_down_trimed_bin = up_down_trimed.copy() / 255\n",
    "proj = np.sum(up_down_trimed_bin, 1)\n",
    "m = np.max(proj)\n",
    "h, w = up_down_trimed_bin.shape\n",
    "result = np.zeros((h,w))\n",
    "for row in range(h):\n",
    "    cv2.line(result, (0,row), (int(proj[row]*w/m),row), (255,255,255), 1)\n",
    "\n",
    "plt.imshow(result, cmap='gray')"
   ]
  },
  {
   "cell_type": "markdown",
   "metadata": {},
   "source": [
    "> TODO or TOBEDO\n",
    " +  detected plate   (DONE)\n",
    " +  perspective view (Katsura)\n",
    " +  is gray scaled   (laxz)\n",
    " +  is binarized     (laxz)\n",
    " +  thresholding     (laxz)\n",
    "    + blur\n",
    "    + thres\n",
    " +  verticle projection (laxz)\n",
    " +  horizontal proj..   (laxz)\n",
    " +  cropped             \n",
    "    +  trim two part\n",
    " +  segmentations\n",
    " +  RECO"
   ]
  },
  {
   "cell_type": "code",
   "execution_count": 99,
   "metadata": {},
   "outputs": [],
   "source": [
    "# w = np.array([True, False, True, False, False])\n",
    "# for i in w:\n",
    "#     print(i) if i else print('Tobotobe')"
   ]
  },
  {
   "cell_type": "code",
   "execution_count": 45,
   "metadata": {},
   "outputs": [],
   "source": [
    "counts = np.bincount(proj.astype(int))\n",
    "counts.argmax()"
   ]
  },
  {
   "cell_type": "markdown",
   "metadata": {},
   "source": [
    "## "
   ]
  },
  {
   "cell_type": "code",
   "execution_count": 3,
   "metadata": {},
   "outputs": [
    {
     "name": "stdout",
     "output_type": "stream",
     "text": [
      "(191, 418)\n"
     ]
    },
    {
     "data": {
      "image/png": "[encoded data removed]",
      "text/plain": [
       "<Figure size 432x288 with 1 Axes>"
      ]
     },
     "metadata": {
      "needs_background": "light"
     },
     "output_type": "display_data"
    }
   ],
   "source": [
    "T,imgThres = cv2.threshold(src=cv2.GaussianBlur(src=cv2.imread('plate-2.jpg', cv2.IMREAD_REDUCED_GRAYSCALE_8), ksize=(5,5), sigmaX=0),thresh=0, maxval=255, type=cv2.THRESH_OTSU)\n",
    "imgBin = imgThres/255\n",
    "plt.imshow(imgBin, cmap='gray')\n",
    "print(imgBin.shape)"
   ]
  },
  {
   "cell_type": "code",
   "execution_count": 5,
   "metadata": {},
   "outputs": [
    {
     "data": {
      "text/plain": [
       "<matplotlib.image.AxesImage at 0x7f7425baf860>"
      ]
     },
     "execution_count": 5,
     "metadata": {},
     "output_type": "execute_result"
    },
    {
     "data": {
      "image/png": "[encoded data removed]",
      "text/plain": [
       "<Figure size 432x288 with 1 Axes>"
      ]
     },
     "metadata": {
      "needs_background": "light"
     },
     "output_type": "display_data"
    }
   ],
   "source": [
    "# Projection\n",
    "proj = np.sum(imgBin,1)\n",
    "m = np.max(proj)\n",
    "h, w = imgThres.shape\n",
    "result = np.zeros((h,w))\n",
    "for row in range(h):\n",
    "    cv2.line(result, (0,row), (int(proj[row]*w/m),row), (255,255,255), 1)\n",
    "plt.imshow(result, cmap='gray')"
   ]
  },
  {
   "cell_type": "code",
   "execution_count": 10,
   "metadata": {},
   "outputs": [
    {
     "name": "stdout",
     "output_type": "stream",
     "text": [
      "16.0\n",
      "23\n",
      "[False False False False False False False False False False False  True\n",
      "  True  True  True  True  True  True  True  True  True False False False\n",
      " False False False False False False False False False False False False\n",
      " False False False False False False False False False False False False\n",
      " False False False False False False False False False False False False\n",
      " False False  True  True  True  True  True  True  True  True  True  True\n",
      "  True  True  True  True  True False False False False False False False\n",
      " False False False False False False False False False False False False\n",
      " False False False False False False False False False False False False\n",
      " False False False False False False False False False False False False\n",
      " False False False False False False False False False False False False\n",
      " False False False False False False False False False False False False\n",
      " False False False False False False False False False False False False\n",
      " False False False False False False False False False False False False\n",
      " False  True False False False False False False False False False  True\n",
      " False False False False False False False  True False False False]\n"
     ]
    }
   ],
   "source": [
    "# so 63 is 1/3 of image and check it with projection sum from vertical axis, at that 63 index, value is 24\n",
    "# if it is smaller than something, what is something? let's find out\n",
    "print(np.amin(proj))\n",
    "# so minimum is 16 , diff is 8\n",
    "\n",
    "# what about maximum occurrence ? \n",
    "print(np.bincount(proj.astype(int)).argmax())\n",
    "# diff is 1\n",
    "\n",
    "# what about tolerence\n",
    "tolerence = np.isclose(a=proj, b=23, atol=4) #atol is tolerence with b\n",
    "print(tolerence)"
   ]
  },
  {
   "cell_type": "code",
   "execution_count": 12,
   "metadata": {},
   "outputs": [],
   "source": [
    "#un = zip(tolerence)"
   ]
  },
  {
   "cell_type": "code",
   "execution_count": 38,
   "metadata": {},
   "outputs": [
    {
     "name": "stdout",
     "output_type": "stream",
     "text": [
      "[418. 418. 418. 361. 304. 365. 414. 415. 408. 348. 114.  27.  25.  24.\n",
      "  24.  24.  25.  25.  25.  25.  24.  35.  58.  76.  78.  78.  80.  71.\n",
      "  68.  71.  73.  86. 100.  97.  80.  76.  72.  71.  72.  72.  70.  65.\n",
      "  66.  67.  65.  63.  63.  63.  63.  62.  63.  62.  63.  63.  61.  63.\n",
      "  67.  74.  73.  70.  67.  50.  24.  24.  23.  23.  23.  23.  23.  23.\n",
      "  23.  23.  23.  23.  23.  22.  22. 114. 155. 169. 179. 188. 194. 201.\n",
      " 206. 196. 153. 140. 137. 134. 133. 132. 131. 131. 131. 133. 128. 121.\n",
      " 119. 112. 107. 109. 109. 110. 110. 109. 111. 109. 108. 107. 108. 126.\n",
      " 130. 134. 140. 141. 142. 143. 143. 145. 146. 146. 124. 123. 122. 123.\n",
      " 129. 128. 123. 125. 123. 119. 115. 111. 103.  96.  97.  96.  97.  94.\n",
      "  95. 100. 108. 115. 128. 127. 129. 133. 136. 136. 139. 140. 139. 113.\n",
      " 110. 112. 114. 118. 121. 143. 155. 150. 144. 138. 134. 127. 117. 105.\n",
      "  72.  23.  17.  16.  16.  16.  16.  16.  16.  16.  17.  19. 230. 414.\n",
      " 418. 418. 416. 177.  34.  20. 339. 403. 418.]\n",
      "it is black. good to go!\n"
     ]
    }
   ],
   "source": [
    "print(proj)\n",
    "max_occur = np.bincount(proj.astype(int)).argmax()\n",
    "print('it is black. good to go!') if int(proj[np.int(191 / 3)]) >= max_occur  else print('dagerous.')"
   ]
  },
  {
   "cell_type": "code",
   "execution_count": 19,
   "metadata": {},
   "outputs": [
    {
     "name": "stdout",
     "output_type": "stream",
     "text": [
      "23\n"
     ]
    }
   ],
   "source": [
    "# max_occur = np.bincount(proj.astype(int)).argmax()\n",
    "# print('it is black. good to go!') if int(proj[np.int(191 / 3)]) >=  else print('dagerous.')"
   ]
  },
  {
   "cell_type": "code",
   "execution_count": 39,
   "metadata": {},
   "outputs": [
    {
     "name": "stdout",
     "output_type": "stream",
     "text": [
      "[21.0098883  20.22123004 22.31049068 21.67097519 20.83388742 22.89766625\n",
      " 20.21931731 22.21457303 20.40807894 21.79353516 21.50621255 21.56203907\n",
      " 20.80691119 22.52913366 22.49286425 21.45356367 22.25742895 22.7805965\n",
      " 22.42561801 22.99660544 22.41382056 21.15809424 21.46886518 21.93310719\n",
      " 22.98620942 22.8351368  21.26401597 21.47458923 22.64213469 22.87508002]\n"
     ]
    }
   ],
   "source": [
    "s = np.random.uniform(20,23,30)\n",
    "print(s)"
   ]
  },
  {
   "cell_type": "code",
   "execution_count": 41,
   "metadata": {},
   "outputs": [
    {
     "name": "stdout",
     "output_type": "stream",
     "text": [
      "[ 96.94190451 -26.19095272  -0.85240403  62.37661174  19.14373897\n",
      "  28.88950014  -6.94971426  28.06108019  68.79430792  13.26086331\n",
      "  52.77897179  61.78758958  15.04802019  80.04253157  28.33342395\n",
      "  -0.1926952   38.44128562  27.37245141  44.56785245  38.65343117\n",
      "  53.43742766   6.92220705   5.1908197   63.65109776  21.18451055\n",
      "  -7.72496912  54.63838473  31.2313957   49.60269164  54.88664958]\n"
     ]
    }
   ],
   "source": [
    "s = np.random.normal(23,23,30)\n",
    "print(s)"
   ]
  },
  {
   "cell_type": "code",
   "execution_count": 34,
   "metadata": {},
   "outputs": [
    {
     "data": {
      "text/plain": [
       "array([2.89034135, 2.97771785, 3.26865012])"
      ]
     },
     "execution_count": 34,
     "metadata": {},
     "output_type": "execute_result"
    }
   ],
   "source": [
    "np.random.normal(3,0.5,3)"
   ]
  },
  {
   "cell_type": "code",
   "execution_count": null,
   "metadata": {},
   "outputs": [],
   "source": []
  },
  {
   "cell_type": "code",
   "execution_count": null,
   "metadata": {},
   "outputs": [],
   "source": []
  },
  {
   "cell_type": "code",
   "execution_count": 28,
   "metadata": {},
   "outputs": [
    {
     "data": {
      "text/plain": [
       "<matplotlib.image.AxesImage at 0x7f7ca799bd68>"
      ]
     },
     "execution_count": 28,
     "metadata": {},
     "output_type": "execute_result"
    },
    {
     "data": {
      "image/png": "[encoded data removed]",
      "text/plain": [
       "<Figure size 432x288 with 1 Axes>"
      ]
     },
     "metadata": {
      "needs_background": "light"
     },
     "output_type": "display_data"
    }
   ],
   "source": [
    "plt.imshow(imgBin[:63,:], cmap='gray')"
   ]
  },
  {
   "cell_type": "code",
   "execution_count": null,
   "metadata": {},
   "outputs": [],
   "source": []
  },
  {
   "cell_type": "code",
   "execution_count": null,
   "metadata": {},
   "outputs": [],
   "source": []
  },
  {
   "cell_type": "markdown",
   "metadata": {},
   "source": [
    "### `result` variable"
   ]
  },
  {
   "cell_type": "code",
   "execution_count": null,
   "metadata": {},
   "outputs": [],
   "source": [
    "print(result[105])"
   ]
  },
  {
   "cell_type": "code",
   "execution_count": null,
   "metadata": {},
   "outputs": [],
   "source": [
    "i = result[3]"
   ]
  },
  {
   "cell_type": "code",
   "execution_count": null,
   "metadata": {},
   "outputs": [],
   "source": [
    "k = np.array([255., 255., 255., 255., 255., 255., 255., 255., 255., 255., 255.,\n",
    "       255., 255., 255., 255., 255., 255., 255., 255., 255., 255., 255.,\n",
    "       255., 255., 255., 255., 255., 255., 255., 255., 255., 255., 255.,\n",
    "       255., 255., 255., 255., 255., 255., 255., 255., 255., 255., 255.,\n",
    "       255., 255., 255., 255., 255., 255., 255., 255., 255., 255., 255.,\n",
    "       255., 255., 255., 255., 255., 255., 255., 255., 255., 255., 255.,\n",
    "       255., 255., 255., 255., 255., 255., 255., 255., 255., 255., 255.,\n",
    "       255., 255., 255., 255., 255., 255., 255., 255., 255., 255., 255.,\n",
    "       255., 255., 255., 255., 255., 255., 255., 255., 255., 255., 255.,\n",
    "       255., 255., 255., 255., 255., 255., 255., 255., 255., 255., 255.,\n",
    "       255., 255., 255., 255., 255., 255., 255., 255., 255., 255., 255.,\n",
    "       255., 255., 255., 255., 255., 255., 255., 255., 255., 255., 255.,\n",
    "       255., 255., 255., 255., 255., 255., 255., 255., 255., 255., 255.,\n",
    "       255., 255., 255., 255., 255., 255., 255., 255., 255., 255., 255.,\n",
    "       255., 255., 255., 255., 255., 255., 255., 255., 255., 255., 255.,\n",
    "       255., 255., 255., 255., 255., 255., 255., 255., 255., 255., 255.,\n",
    "       255., 255., 255., 255., 255., 255., 255., 255., 255., 255., 255.,\n",
    "       255., 255., 255., 255., 255., 255., 255., 255., 255., 255., 255.,\n",
    "       255., 255.])"
   ]
  },
  {
   "cell_type": "code",
   "execution_count": null,
   "metadata": {},
   "outputs": [],
   "source": [
    "k.shape"
   ]
  },
  {
   "cell_type": "code",
   "execution_count": null,
   "metadata": {},
   "outputs": [],
   "source": [
    "np.equal(i[:200], k).all()"
   ]
  },
  {
   "cell_type": "markdown",
   "metadata": {},
   "source": [
    "<hr>\n",
    "\n",
    "**END**"
   ]
  },
  {
   "cell_type": "markdown",
   "metadata": {},
   "source": [
    "## **Contours**"
   ]
  },
  {
   "cell_type": "code",
   "execution_count": null,
   "metadata": {
    "jupyter": {
     "source_hidden": true
    }
   },
   "outputs": [],
   "source": [
    "contours, hierarchy = cv2.findContours(thresh_image_blured, cv2.RETR_TREE, cv2.CHAIN_APPROX_SIMPLE)"
   ]
  },
  {
   "cell_type": "code",
   "execution_count": null,
   "metadata": {
    "jupyter": {
     "source_hidden": true
    }
   },
   "outputs": [],
   "source": [
    "for i in range(5):\n",
    "    print(contours[i][0])\n",
    "    print(contours[i][1])\n",
    "    print(contours[i])"
   ]
  },
  {
   "cell_type": "code",
   "execution_count": null,
   "metadata": {
    "jupyter": {
     "source_hidden": true
    }
   },
   "outputs": [],
   "source": [
    "print('length',str(len(contours)))\n",
    "print('type', str(type(contours)))\n",
    "print('length at 3 is ', str(len(contours[2])))\n",
    "print('-',contours[2][1][0][1])\n",
    "print('--', contours[2][4])\n",
    "print(contours[2])"
   ]
  },
  {
   "cell_type": "code",
   "execution_count": null,
   "metadata": {
    "jupyter": {
     "source_hidden": true
    }
   },
   "outputs": [],
   "source": [
    "contours = sorted(contours, key=cv2.contourArea, reverse=True)"
   ]
  },
  {
   "cell_type": "code",
   "execution_count": null,
   "metadata": {
    "jupyter": {
     "source_hidden": true
    }
   },
   "outputs": [],
   "source": [
    "print('length at 0 is ', str(len(contours[0])))\n",
    "for i in range(len(contours[0])):\n",
    "    if i == 567:\n",
    "        print(contours[0][i])"
   ]
  },
  {
   "cell_type": "code",
   "execution_count": null,
   "metadata": {
    "jupyter": {
     "source_hidden": true
    }
   },
   "outputs": [],
   "source": [
    "img = cv2.imread(image_path)\n",
    "sq = list()\n",
    "nsq = list()\n",
    "cropped = list()\n",
    "for cnt in contours:\n",
    "    (x,y,w,h) = cv2.boundingRect(cnt)\n",
    "    if (w * h > area_condition_one and w * h < area_condition_two and w/h > 0.3 and h/w > 0.3):\n",
    "        #cv2.drawContours(img, [cnt], 0, (0, 255, 0), 3)\n",
    "        cv2.rectangle(img, (x,y), (x+w,y+h), (255, 0, 0), 2)\n",
    "        c = thresh_image_blured[y:y+h,x:x+w]\n",
    "        c = np.array(c)\n",
    "        c = cv2.bitwise_not(c)\n",
    "        nsq.append(c)\n",
    "        c = square(c)\n",
    "        sq.append(c)\n",
    "        c = cv2.resize(c,(28,28), interpolation = cv2.INTER_AREA)\n",
    "        cropped.append(c)\n",
    "        plt.imshow(img)\n",
    "        #cv2.imwrite('detection.png', img)\n",
    "    #return cropped\n",
    "    #test = cv2.rectangle(image_array_test, (x,y), (x+w,y+h), (255, 0, 0), 2)\n",
    "    #test= cv2.drawContours(image_array, [cnt], 0, (0, 255, 0), 3)"
   ]
  },
  {
   "cell_type": "code",
   "execution_count": null,
   "metadata": {
    "jupyter": {
     "source_hidden": true
    }
   },
   "outputs": [],
   "source": [
    "type(sq[0])"
   ]
  },
  {
   "cell_type": "code",
   "execution_count": null,
   "metadata": {
    "jupyter": {
     "source_hidden": true
    }
   },
   "outputs": [],
   "source": [
    "fig, axes = plt.subplots(nrows=1,ncols=len(nsq)-1, figsize=(50, 3.8))\n",
    "fig.tight_layout()\n",
    "for i in range(len(nsq)-1):\n",
    "    axes[i].imshow(nsq[i])"
   ]
  },
  {
   "cell_type": "code",
   "execution_count": null,
   "metadata": {
    "jupyter": {
     "source_hidden": true
    }
   },
   "outputs": [],
   "source": [
    "plt.imshow(nsq[4], cmap='gray')"
   ]
  },
  {
   "cell_type": "code",
   "execution_count": null,
   "metadata": {
    "jupyter": {
     "source_hidden": true
    }
   },
   "outputs": [],
   "source": [
    "fig, axes = plt.subplots(nrows=1,ncols=len(sq)-1, figsize=(50, 3.8))\n",
    "fig.tight_layout()\n",
    "for i in range(len(sq)-1):\n",
    "    axes[i].imshow(sq[i])"
   ]
  },
  {
   "cell_type": "code",
   "execution_count": null,
   "metadata": {
    "jupyter": {
     "source_hidden": true
    }
   },
   "outputs": [],
   "source": [
    "fig, axes = plt.subplots(nrows=1,ncols=len(cropped)-1, figsize=(50, 3.8))\n",
    "fig.tight_layout()\n",
    "for i in range(len(cropped)-1):\n",
    "    axes[i].imshow(cropped[i])"
   ]
  },
  {
   "cell_type": "code",
   "execution_count": null,
   "metadata": {
    "jupyter": {
     "source_hidden": true
    }
   },
   "outputs": [],
   "source": [
    "plt.imshow(cropped[4], cmap='gray')"
   ]
  },
  {
   "cell_type": "code",
   "execution_count": null,
   "metadata": {
    "jupyter": {
     "source_hidden": true
    }
   },
   "outputs": [],
   "source": [
    "len(cropped)"
   ]
  },
  {
   "cell_type": "code",
   "execution_count": null,
   "metadata": {
    "jupyter": {
     "source_hidden": true
    }
   },
   "outputs": [],
   "source": [
    "(x,y,w,h) = cv2.boundingRect(contours[0])"
   ]
  },
  {
   "cell_type": "code",
   "execution_count": null,
   "metadata": {
    "jupyter": {
     "source_hidden": true
    }
   },
   "outputs": [],
   "source": [
    "print(x,y,w,h)"
   ]
  },
  {
   "cell_type": "code",
   "execution_count": null,
   "metadata": {
    "jupyter": {
     "source_hidden": true
    }
   },
   "outputs": [],
   "source": [
    "for i in contours:\n",
    "    (x,y,w,h) = cv2.boundingRect(i)\n",
    "    print(x,y,w,h)"
   ]
  },
  {
   "cell_type": "code",
   "execution_count": null,
   "metadata": {
    "jupyter": {
     "source_hidden": true
    }
   },
   "outputs": [],
   "source": [
    "cv2.contourArea?"
   ]
  },
  {
   "cell_type": "code",
   "execution_count": null,
   "metadata": {
    "jupyter": {
     "source_hidden": true
    }
   },
   "outputs": [],
   "source": []
  },
  {
   "cell_type": "code",
   "execution_count": null,
   "metadata": {},
   "outputs": [],
   "source": []
  }
 ],
 "metadata": {
  "kernelspec": {
   "display_name": "Python 3",
   "language": "python",
   "name": "python3"
  },
  "language_info": {
   "codemirror_mode": {
    "name": "ipython",
    "version": 3
   },
   "file_extension": ".py",
   "mimetype": "text/x-python",
   "name": "python",
   "nbconvert_exporter": "python",
   "pygments_lexer": "ipython3",
   "version": "3.6.10"
  }
 },
 "nbformat": 4,
 "nbformat_minor": 4
}
