{
 "cells": [
  {
   "cell_type": "code",
   "execution_count": 1,
   "metadata": {},
   "outputs": [
    {
     "name": "stderr",
     "output_type": "stream",
     "text": [
      "Using TensorFlow backend.\n"
     ]
    }
   ],
   "source": [
    "import numpy as np\n",
    "import cv2,os,pickle\n",
    "from sklearn.preprocessing import OneHotEncoder\n",
    "from keras.models import load_model\n",
    "from matplotlib import pyplot as plt"
   ]
  },
  {
   "cell_type": "code",
   "execution_count": 2,
   "metadata": {},
   "outputs": [],
   "source": [
    "model = load_model('cnn_classifier.h5')"
   ]
  },
  {
   "cell_type": "code",
   "execution_count": 3,
   "metadata": {},
   "outputs": [],
   "source": [
    "def square(img):\n",
    "    \"\"\"\n",
    "    This function resize non square image to square one (height == width)\n",
    "    :param img: input image as numpy array\n",
    "    :return: numpy array\n",
    "    \"\"\"\n",
    "\n",
    "    # image after making height equal to width\n",
    "    squared_image = img\n",
    "\n",
    "    # Get image height and width\n",
    "    h = img.shape[0]\n",
    "    w = img.shape[1]\n",
    "\n",
    "    # In case height superior than width\n",
    "    if h > w:\n",
    "        diff = h-w\n",
    "        if diff % 2 == 0:\n",
    "            x1 = np.zeros(shape=(h, diff//2))\n",
    "            x2 = x1\n",
    "        else:\n",
    "            x1 = np.zeros(shape=(h, diff//2))\n",
    "            x2 = np.zeros(shape=(h, (diff//2)+1))\n",
    "\n",
    "        squared_image = np.concatenate((x1, img, x2), axis=1)\n",
    "\n",
    "    # In case height inferior than width\n",
    "    if h < w:\n",
    "        diff = w-h\n",
    "        if diff % 2 == 0:\n",
    "            x1 = np.zeros(shape=(diff//2, w))\n",
    "            x2 = x1\n",
    "        else:\n",
    "            x1 = np.zeros(shape=(diff//2, w))\n",
    "            x2 = np.zeros(shape=((diff//2)+1, w))\n",
    "\n",
    "        squared_image = np.concatenate((x1, img, x2), axis=0)\n",
    "\n",
    "    return squared_image\n",
    "\n",
    "def plate_segmentation(img_file_path):\n",
    "\n",
    "    img = cv2.imread(img_file_path)\n",
    "    imgray = cv2.cvtColor(img, cv2.COLOR_BGR2GRAY)\n",
    "\n",
    "    height = img.shape[0]\n",
    "    width = img.shape[1]\n",
    "    area = height * width\n",
    "\n",
    "    scale1 = 0.001\n",
    "    scale2 = 0.1\n",
    "    area_condition1 = area * scale1\n",
    "    area_condition2 = area * scale2\n",
    "    # global thresholding\n",
    "    ret1,th1 = cv2.threshold(imgray,127,255,cv2.THRESH_BINARY)\n",
    "\n",
    "    # Otsu's thresholding\n",
    "    ret2,th2 = cv2.threshold(imgray,0,255,cv2.THRESH_BINARY+cv2.THRESH_OTSU)\n",
    "\n",
    "    # Otsu's thresholding after Gaussian filtering\n",
    "    blur = cv2.GaussianBlur(imgray,(5,5),0)\n",
    "    ret3,th3 = cv2.threshold(blur,0,255,cv2.THRESH_BINARY+cv2.THRESH_OTSU)\n",
    "\n",
    "    contours, hierarchy = cv2.findContours(th3, cv2.RETR_TREE, cv2.CHAIN_APPROX_SIMPLE)\n",
    "\n",
    "    # sort contours\n",
    "    contours = sorted(contours, key=cv2.contourArea, reverse=True)\n",
    "\n",
    "    cropped = []\n",
    "    for cnt in contours:\n",
    "        (x,y,w,h) = cv2.boundingRect(cnt)\n",
    "\n",
    "\n",
    "        if (w * h > area_condition1 and w * h < area_condition2 and w/h > 0.3 and h/w > 0.3):\n",
    "            cv2.drawContours(img, [cnt], 0, (0, 255, 0), 3)\n",
    "            cv2.rectangle(img, (x,y), (x+w,y+h), (255, 0, 0), 2)\n",
    "            c = th2[y:y+h,x:x+w]\n",
    "            c = np.array(c)\n",
    "            c = cv2.bitwise_not(c)\n",
    "            c = square(c)\n",
    "            c = cv2.resize(c,(28,28), interpolation = cv2.INTER_AREA)\n",
    "            cropped.append(c)\n",
    "    cv2.imwrite('detection.png', img)\n",
    "    return cropped"
   ]
  },
  {
   "cell_type": "code",
   "execution_count": 4,
   "metadata": {},
   "outputs": [],
   "source": [
    "digits = plate_segmentation('mm-plate.jpg')"
   ]
  },
  {
   "cell_type": "code",
   "execution_count": 5,
   "metadata": {},
   "outputs": [
    {
     "data": {
      "text/plain": [
       "20"
      ]
     },
     "execution_count": 5,
     "metadata": {},
     "output_type": "execute_result"
    }
   ],
   "source": [
    "len(digits)"
   ]
  },
  {
   "cell_type": "code",
   "execution_count": 16,
   "metadata": {},
   "outputs": [
    {
     "data": {
      "text/plain": [
       "<matplotlib.image.AxesImage at 0x7f2ebc11fa20>"
      ]
     },
     "execution_count": 16,
     "metadata": {},
     "output_type": "execute_result"
    },
    {
     "data": {
      "image/png": "[encoded data removed]",
      "text/plain": [
       "<Figure size 432x288 with 1 Axes>"
      ]
     },
     "metadata": {
      "needs_background": "light"
     },
     "output_type": "display_data"
    }
   ],
   "source": [
    "plt.imshow(digits[1])"
   ]
  },
  {
   "cell_type": "code",
   "execution_count": 17,
   "metadata": {},
   "outputs": [],
   "source": [
    "digit = np.reshape(digits[1], (1,28,28,1))"
   ]
  },
  {
   "cell_type": "code",
   "execution_count": 18,
   "metadata": {},
   "outputs": [],
   "source": [
    "prediction = model.predict(digit)"
   ]
  },
  {
   "cell_type": "code",
   "execution_count": 19,
   "metadata": {},
   "outputs": [
    {
     "data": {
      "text/plain": [
       "numpy.ndarray"
      ]
     },
     "execution_count": 19,
     "metadata": {},
     "output_type": "execute_result"
    }
   ],
   "source": [
    "type(prediction)"
   ]
  },
  {
   "cell_type": "code",
   "execution_count": 20,
   "metadata": {},
   "outputs": [],
   "source": [
    "alphabets = ['0','1','2','3','4','5','6','7','8','9','A','B','C','D','E','F','G','H','I','J','K','L','M','N','O','P','Q','R','S','T','U','V','W','X','Y','Z']\n",
    "classes = []\n",
    "for a in alphabets:\n",
    "    classes.append([a])\n",
    "ohe = OneHotEncoder(handle_unknown='ignore')\n",
    "ohe.fit(classes)\n",
    "pred = ohe.inverse_transform(prediction)"
   ]
  },
  {
   "cell_type": "code",
   "execution_count": 22,
   "metadata": {},
   "outputs": [
    {
     "data": {
      "text/plain": [
       "'C'"
      ]
     },
     "execution_count": 22,
     "metadata": {},
     "output_type": "execute_result"
    }
   ],
   "source": [
    "pred[0][0]"
   ]
  },
  {
   "cell_type": "code",
   "execution_count": 23,
   "metadata": {},
   "outputs": [
    {
     "data": {
      "text/plain": [
       "array([[2.20797509e-02, 3.02630360e-04, 6.33181480e-04, 1.16011724e-05,\n",
       "        1.34495064e-03, 2.32395949e-03, 4.40149708e-03, 5.36854495e-05,\n",
       "        2.09214818e-03, 2.78680498e-04, 7.15210917e-04, 1.75286038e-03,\n",
       "        5.16220033e-01, 1.41406374e-03, 8.31993669e-02, 7.64596090e-03,\n",
       "        1.24479644e-01, 2.46304116e-04, 6.01971708e-03, 7.30898522e-04,\n",
       "        8.56716931e-03, 3.73677798e-02, 2.03274278e-04, 1.81701023e-03,\n",
       "        3.45970802e-02, 1.89100881e-03, 7.57006258e-02, 2.13146253e-04,\n",
       "        1.41649609e-02, 2.89411061e-02, 7.85139017e-03, 6.91099605e-03,\n",
       "        1.37895823e-03, 3.74644937e-04, 1.83429732e-03, 2.24039191e-03]],\n",
       "      dtype=float32)"
      ]
     },
     "execution_count": 23,
     "metadata": {},
     "output_type": "execute_result"
    }
   ],
   "source": [
    "prediction"
   ]
  },
  {
   "cell_type": "code",
   "execution_count": 9,
   "metadata": {},
   "outputs": [
    {
     "name": "stdout",
     "output_type": "stream",
     "text": [
      "Prediction : D , Precision : 0.8543954\n",
      "Prediction : 7 , Precision : 0.81099445\n"
     ]
    }
   ],
   "source": [
    "for d in digits:\n",
    "\n",
    "    d = np.reshape(d, (1,28,28,1))\n",
    "    out = model.predict(d)\n",
    "    # Get max pre arg\n",
    "    p = []\n",
    "    precision = 0\n",
    "    for i in range(len(out)):\n",
    "        z = np.zeros(36)\n",
    "        z[np.argmax(out[i])] = 1.\n",
    "        precision = max(out[i])\n",
    "        p.append(z)\n",
    "    prediction = np.array(p)\n",
    "\n",
    "    # Inverse one hot encoding\n",
    "    alphabets = ['0','1','2','3','4','5','6','7','8','9','A','B','C','D','E','F','G','H','I','J','K','L','M','N','O','P','Q','R','S','T','U','V','W','X','Y','Z']\n",
    "    classes = []\n",
    "    for a in alphabets:\n",
    "        classes.append([a])\n",
    "    ohe = OneHotEncoder(handle_unknown='ignore')\n",
    "    ohe.fit(classes)\n",
    "    pred = ohe.inverse_transform(prediction)\n",
    "\n",
    "    if precision > 0.6:\n",
    "        print('Prediction : ' + str(pred[0][0]) + ' , Precision : ' + str(precision))"
   ]
  },
  {
   "cell_type": "code",
   "execution_count": null,
   "metadata": {},
   "outputs": [],
   "source": []
  }
 ],
 "metadata": {
  "kernelspec": {
   "display_name": "Python 3",
   "language": "python",
   "name": "python3"
  },
  "language_info": {
   "codemirror_mode": {
    "name": "ipython",
    "version": 3
   },
   "file_extension": ".py",
   "mimetype": "text/x-python",
   "name": "python",
   "nbconvert_exporter": "python",
   "pygments_lexer": "ipython3",
   "version": "3.6.10"
  }
 },
 "nbformat": 4,
 "nbformat_minor": 4
}
